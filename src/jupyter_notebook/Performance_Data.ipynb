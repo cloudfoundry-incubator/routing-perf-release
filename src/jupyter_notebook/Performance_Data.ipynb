{
 "cells": [
  {
   "cell_type": "markdown",
   "metadata": {},
   "source": [
    "# Performance Data Comparison\n",
    "\n",
    "This notebook can be used either to view a summary of a single set performance benchmark data or to compare summaries of two sets of performance benchmark data.\n",
    "\n",
    "Set the variable below to `True` to compare two sets of data, and rerun all of the cells."
   ]
  },
  {
   "cell_type": "code",
   "execution_count": null,
   "metadata": {
    "collapsed": true
   },
   "outputs": [],
   "source": [
    "compareDatasets = False"
   ]
  },
  {
   "cell_type": "code",
   "execution_count": null,
   "metadata": {
    "collapsed": false,
    "scrolled": true
   },
   "outputs": [],
   "source": [
    "%matplotlib inline\n",
    "import warnings\n",
    "warnings.filterwarnings('ignore')\n",
    "\n",
    "import numpy as np\n",
    "import pandas as pd\n",
    "import matplotlib\n",
    "import matplotlib.pyplot as plt\n",
    "matplotlib.style.use('ggplot')\n",
    "\n",
    "matplotlib.rcParams['figure.figsize'] = 9, 6\n",
    "matplotlib.rcParams['legend.loc'] = 'best'\n",
    "\n",
    "# We'll need these packages for plotting fit lines\n",
    "import statsmodels.api as sm\n",
    "from patsy import dmatrices\n",
    "\n",
    "import os.path\n",
    "assert os.path.isfile('cpuStats.csv'), 'Missing CPU stats file \"cpuStats.csv\"'\n",
    "assert os.path.isfile('perfResults.csv'), 'Missing performance results file \"perfResults.csv\"'\n",
    "\n",
    "if compareDatasets:\n",
    "    assert os.path.isfile('old_cpuStats.csv'), 'Missing old CPU stats file \"old_cpuStats.csv\"'\n",
    "    assert os.path.isfile('old_perfResults.csv'), 'Missing old performance results file \"old_perfResults.csv\"'"
   ]
  },
  {
   "cell_type": "markdown",
   "metadata": {},
   "source": [
    "## CPU Percentage over time\n",
    "\n",
    "We are curretly sampling the CPU percentage data at `5s` but if you want to resample with a different frequency, change the variable below to the desired frequency (in seconds) and rerun all the cells."
   ]
  },
  {
   "cell_type": "code",
   "execution_count": null,
   "metadata": {
    "collapsed": true
   },
   "outputs": [],
   "source": [
    "resampleFrequency = 5"
   ]
  },
  {
   "cell_type": "code",
   "execution_count": null,
   "metadata": {
    "collapsed": false,
    "scrolled": true
   },
   "outputs": [],
   "source": [
    "def processCpuData(data):\n",
    "    data['timestamp'] = pd.to_datetime(data['timestamp'].str.strip(' +0000 UTC'))\n",
    "\n",
    "    meanData = data.set_index('timestamp').resample('{0}s'.format(resampleFrequency)).mean()\n",
    "    meanData = meanData.reset_index()\n",
    "    meanData = meanData.set_index(meanData.index.values * resampleFrequency)\n",
    "    return meanData\n",
    "\n",
    "cpuData = pd.read_csv('cpuStats.csv')\n",
    "cpuMeanData = processCpuData(cpuData)\n",
    "\n",
    "if compareDatasets:\n",
    "    oldCpuData = pd.read_csv('old_cpuStats.csv')\n",
    "    oldCpuMeanData = processCpuData(oldCpuData) "
   ]
  },
  {
   "cell_type": "code",
   "execution_count": null,
   "metadata": {
    "collapsed": false,
    "scrolled": false
   },
   "outputs": [],
   "source": [
    "fig, ax = plt.subplots()\n",
    "ax = cpuMeanData.plot(ax=ax, kind='line', y='percentage', c='b')\n",
    "if compareDatasets:\n",
    "    ax = oldCpuMeanData.plot(ax=ax, kind='line', y='percentage', c='r')\n",
    "    ax.legend(['after', 'before'])\n",
    "else:\n",
    "    ax.legend(['mean'])\n",
    "ax.set_ylabel('CPU percentage')\n",
    "ax.set_xlabel('Time since benchmark started (seconds)')\n",
    "ax.set_title('Mean CPU percentage over time')\n",
    "plt.show()"
   ]
  },
  {
   "cell_type": "markdown",
   "metadata": {},
   "source": [
    "## Throughput Data over time\n",
    "\n",
    "We see the spike's in below graph because of the way we are testing performance. Since it is a ramp up test throughput does not consistently increase over time. "
   ]
  },
  {
   "cell_type": "code",
   "execution_count": null,
   "metadata": {
    "collapsed": false
   },
   "outputs": [],
   "source": [
    "def processThroughputData(data):\n",
    "    buckets = data.set_index('start-time')['response-time'].resample('1S')\n",
    "    throughputData = buckets.aggregate({'throughput':'count'})\n",
    "    throughputData = throughputData.reset_index()\n",
    "    return buckets, throughputData\n",
    "\n",
    "goData = pd.read_csv('perfResults.csv', parse_dates=['start-time'])\n",
    "throughputBuckets, throughtputData = processThroughputData(goData)\n",
    "\n",
    "if compareDatasets:\n",
    "    oldGoData = pd.read_csv('old_perfResults.csv', parse_dates=['start-time'])\n",
    "    oldThroughputBuckets, oldThroughputData = processThroughputData(oldGoData)"
   ]
  },
  {
   "cell_type": "code",
   "execution_count": null,
   "metadata": {
    "collapsed": false,
    "scrolled": false
   },
   "outputs": [],
   "source": [
    "fix, ax = plt.subplots()\n",
    "ax = throughputData.plot(ax=ax, y='throughput', c='b')\n",
    "if compareDatasets:\n",
    "    ax = oldThroughputData.plot(ax=ax, y='throughput', c='r')\n",
    "    ax.legend(['after', 'before'])\n",
    "ax.set_ylabel('Throughput (req/sec)')\n",
    "ax.set_xlabel('Time since benchmark started (seconds)')\n",
    "plt.show()"
   ]
  },
  {
   "cell_type": "markdown",
   "metadata": {},
   "source": [
    "## Headroom plot"
   ]
  },
  {
   "cell_type": "code",
   "execution_count": null,
   "metadata": {
    "collapsed": false
   },
   "outputs": [],
   "source": [
    "goData['throughput'] = throughputBuckets.transform(len).reset_index()['response-time']\n",
    "goData.columns = ['start-time', 'latency', 'throughput']\n",
    "\n",
    "if compareDatasets:\n",
    "    oldGoData['throughput'] = oldThroughputBuckets.transform(len).reset_index()['response-time']\n",
    "    oldGoData.columns = ['start-time', 'latency', 'throughput']"
   ]
  },
  {
   "cell_type": "code",
   "execution_count": null,
   "metadata": {
    "collapsed": false
   },
   "outputs": [],
   "source": [
    "def generateFitLine(data):\n",
    "    y, x = dmatrices('latency ~ throughput', data=data, return_type='dataframe')\n",
    "    fit = sm.GLM(y, x, family=sm.families.InverseGaussian(sm.families.links.inverse_squared)).fit()\n",
    "\n",
    "    domain = np.arange(data['throughput'].min(), data['throughput'].max())\n",
    "    predictionInputs = np.ones((len(domain), 2))\n",
    "    predictionInputs[:,1] = domain\n",
    "    fitLine = fit.predict(predictionInputs)\n",
    "    return domain, fitLine\n",
    "\n",
    "domain, goFitLine = generateFitLine(goData)\n",
    "\n",
    "if compareDatasets:\n",
    "    oldDomain, oldGoFitLine = generateFitLine(oldGoData)"
   ]
  },
  {
   "cell_type": "code",
   "execution_count": null,
   "metadata": {
    "collapsed": false,
    "scrolled": false
   },
   "outputs": [],
   "source": [
    "fig, ax = plt.subplots()\n",
    "\n",
    "# Change the value of `c` to change the color. http://matplotlib.org/api/colors_api.html\n",
    "ax = goData.plot(ax=ax, kind='scatter', x='throughput', y='latency', c='b', marker='.', alpha=0.2)\n",
    "ax.plot(domain, goFitLine, c='b', lw=2) # Plot the fit line\n",
    "\n",
    "if compareDatasets:\n",
    "    ax = oldGoData.plot(ax=ax, kind='scatter', x='throughput', y='latency', c='r', marker='.', alpha=0.2)\n",
    "    ax.plot(oldDomain, oldGoFitLine, c='r', lw=2) # Plot the fit line\n",
    "    ax.legend(['after', 'before'])\n",
    "\n",
    "# To update x & y axis range change the parameters in function set_(x/y)lim(lower_limit, uppper_limit) \n",
    "ax.set_ylim(0,0.15)\n",
    "ax.set_xlim(0,2500)\n",
    "plt.xlabel('Throughput (requests/sec)')\n",
    "plt.ylabel('Latency (sec)')\n",
    "plt.title('Headroom plot', y=1.05)\n",
    "plt.show()"
   ]
  },
  {
   "cell_type": "code",
   "execution_count": null,
   "metadata": {
    "collapsed": true
   },
   "outputs": [],
   "source": []
  }
 ],
 "metadata": {
  "kernelspec": {
   "display_name": "Python 3",
   "language": "python",
   "name": "python3"
  },
  "language_info": {
   "codemirror_mode": {
    "name": "ipython",
    "version": 3
   },
   "file_extension": ".py",
   "mimetype": "text/x-python",
   "name": "python",
   "nbconvert_exporter": "python",
   "pygments_lexer": "ipython3",
   "version": "3.5.2"
  },
  "widgets": {
   "state": {
    "daa35faed1ac46f5970817944fc4a6dc": {
     "views": [
      {
       "cell_index": 1
      }
     ]
    }
   },
   "version": "1.2.0"
  }
 },
 "nbformat": 4,
 "nbformat_minor": 2
}
