{
 "cells": [
  {
   "cell_type": "code",
   "execution_count": null,
   "metadata": {
    "collapsed": false,
    "deletable": true,
    "editable": true
   },
   "outputs": [],
   "source": [
    "from IPython.display import HTML\n",
    "HTML('''<script>\n",
    "  $( document ).ready(function(){\n",
    "    code_shown=false;\n",
    "    $('div.input').hide()\n",
    "    $('div.output_prompt').hide()\n",
    "  });\n",
    "</script>''')"
   ]
  },
  {
   "cell_type": "markdown",
   "metadata": {
    "deletable": true,
    "editable": true
   },
   "source": [
    "# Performance Data Comparison\n",
    "\n",
    "This notebook can be used to compare summaries of two sets of performance benchmark data.\n"
   ]
  },
  {
   "cell_type": "code",
   "execution_count": null,
   "metadata": {
    "collapsed": true,
    "deletable": true,
    "editable": true
   },
   "outputs": [],
   "source": [
    "compareDatasets = True"
   ]
  },
  {
   "cell_type": "code",
   "execution_count": null,
   "metadata": {
    "collapsed": false,
    "deletable": true,
    "editable": true,
    "scrolled": true
   },
   "outputs": [],
   "source": [
    "%matplotlib inline\n",
    "import warnings\n",
    "warnings.filterwarnings('ignore')\n",
    "\n",
    "import numpy as np\n",
    "import pandas as pd\n",
    "import matplotlib\n",
    "import matplotlib.pyplot as plt\n",
    "matplotlib.style.use('ggplot')\n",
    "\n",
    "matplotlib.rcParams['figure.figsize'] = 9, 6\n",
    "matplotlib.rcParams['legend.loc'] = 'best'\n",
    "matplotlib.rcParams['figure.dpi'] = 120\n",
    "\n",
    "# We'll need these packages for plotting fit lines\n",
    "import statsmodels.api as sm\n",
    "from patsy import dmatrices\n",
    "\n",
    "from io import StringIO\n",
    "import re\n",
    "\n",
    "import os.path\n",
    "assert os.path.isfile('cpuStats.csv'), 'Missing CPU stats file \"cpuStats.csv\"'\n",
    "assert os.path.isfile('perfResults.csv'), 'Missing performance results file \"perfResults.csv\"'\n",
    "\n",
    "if compareDatasets:\n",
    "    assert os.path.isfile('old_cpuStats.csv'), 'Missing old CPU stats file \"old_cpuStats.csv\"'\n",
    "    assert os.path.isfile('old_perfResults.csv'), 'Missing old performance results file \"old_perfResults.csv\"'"
   ]
  },
  {
   "cell_type": "markdown",
   "metadata": {
    "deletable": true,
    "editable": true
   },
   "source": [
    "## CPU Percentage over time\n",
    "\n",
    "We are curretly sampling the CPU percentage data at `5s`."
   ]
  },
  {
   "cell_type": "code",
   "execution_count": null,
   "metadata": {
    "collapsed": true,
    "deletable": true,
    "editable": true
   },
   "outputs": [],
   "source": [
    "resampleFrequency = 5"
   ]
  },
  {
   "cell_type": "code",
   "execution_count": null,
   "metadata": {
    "collapsed": false,
    "deletable": true,
    "editable": true,
    "scrolled": true
   },
   "outputs": [],
   "source": [
    "def processCpuData(data):\n",
    "    meanData = data.resample('{0}s'.format(resampleFrequency)).mean()\n",
    "    meanData = meanData.reset_index()\n",
    "    meanData = meanData.set_index(meanData.index.values * resampleFrequency)\n",
    "    return meanData\n",
    "\n",
    "cpuData = pd.read_csv('cpuStats.csv', parse_dates=['timestamp'], index_col=['timestamp'])\n",
    "cpuMeanData = processCpuData(cpuData)\n",
    "\n",
    "if compareDatasets:\n",
    "    oldCpuData = pd.read_csv('old_cpuStats.csv', parse_dates=['timestamp'], index_col=['timestamp'])\n",
    "    oldCpuMeanData = processCpuData(oldCpuData) "
   ]
  },
  {
   "cell_type": "code",
   "execution_count": null,
   "metadata": {
    "collapsed": false,
    "deletable": true,
    "editable": true,
    "scrolled": false
   },
   "outputs": [],
   "source": [
    "fig, ax = plt.subplots()\n",
    "ax = cpuMeanData.plot(ax=ax, y='percentage', c='b')\n",
    "if compareDatasets:\n",
    "    ax = oldCpuMeanData.plot(ax=ax, y='percentage', c='r')\n",
    "    ax.legend(['after', 'before'])\n",
    "else:\n",
    "    ax.legend(['mean'])\n",
    "ax.set_ylabel('CPU percentage')\n",
    "ax.set_xlabel('Time since benchmark started (seconds)')\n",
    "ax.set_title('Mean CPU percentage over time')\n",
    "plt.show()"
   ]
  },
  {
   "cell_type": "markdown",
   "metadata": {
    "deletable": true,
    "editable": true
   },
   "source": [
    "## Throughput Data over time\n"
   ]
  },
  {
   "cell_type": "code",
   "execution_count": null,
   "metadata": {
    "collapsed": false,
    "deletable": true,
    "editable": true,
    "scrolled": false
   },
   "outputs": [],
   "source": [
    "def readThroughputData(filename):\n",
    "    with open(filename) as f:\n",
    "        data = f.read()\n",
    "    # Get locations of start-time,response-time headers in file\n",
    "    header_idxs = [m.start() for m in re.finditer('start-time,response-time', data)]\n",
    "    header_idxs.append(len(data))\n",
    "    prev = header_idxs[0]\n",
    "    \n",
    "    df = pd.DataFrame()\n",
    "    # Read each section delimited by the csv headers\n",
    "    for cur in header_idxs[1:]:\n",
    "        dfSection = pd.read_csv(StringIO(data[prev:cur]), parse_dates=['start-time'])\n",
    "        df = df.append(trimEdges(dfSection))\n",
    "        prev = cur\n",
    "    # Reset the index because it is a Frankenstein of smaller indexes\n",
    "    df = df.reset_index().drop('index', axis=1)\n",
    "    return df\n",
    "    \n",
    "def trimEdges(data):\n",
    "    indexes = data.set_index('start-time').resample('1S').aggregate(lambda x: 1).index\n",
    "    testStartTime = indexes[1]\n",
    "    testEndTime = indexes[-2]\n",
    "    return data[(data['start-time'] >= testStartTime) & (data['start-time'] <= testEndTime)]\n",
    "    \n",
    "def processThroughputData(data):\n",
    "    buckets = data.set_index('start-time')['response-time'].resample('1S')\n",
    "    throughputData = buckets.aggregate({'throughput': lambda x: np.nan if x.count() == 0 else x.count()})\n",
    "    throughputData = throughputData.reset_index()\n",
    "    throughputData = throughputData.fillna(method='ffill')\n",
    "    return buckets, throughputData\n",
    "    \n",
    "goData = readThroughputData('perfResults.csv')\n",
    "throughputBuckets, throughputData = processThroughputData(goData)\n",
    "\n",
    "if compareDatasets:\n",
    "    oldGoData = readThroughputData('old_perfResults.csv')\n",
    "    oldThroughputBuckets, oldThroughputData = processThroughputData(oldGoData)"
   ]
  },
  {
   "cell_type": "code",
   "execution_count": null,
   "metadata": {
    "collapsed": false,
    "deletable": true,
    "editable": true,
    "scrolled": false
   },
   "outputs": [],
   "source": [
    "fix, ax = plt.subplots()\n",
    "ax = throughputData.plot(ax=ax, y='throughput', c='b')\n",
    "if compareDatasets:\n",
    "    ax = oldThroughputData.plot(ax=ax, y='throughput', c='r')\n",
    "    ax.legend(['after', 'before'])\n",
    "ax.set_ylabel('Throughput (req/sec)')\n",
    "ax.set_xlabel('Time since benchmark started (seconds)')\n",
    "plt.show()"
   ]
  },
  {
   "cell_type": "markdown",
   "metadata": {
    "deletable": true,
    "editable": true
   },
   "source": [
    "## Headroom plot"
   ]
  },
  {
   "cell_type": "code",
   "execution_count": null,
   "metadata": {
    "collapsed": false,
    "deletable": true,
    "editable": true
   },
   "outputs": [],
   "source": [
    "goData['throughput'] = throughputBuckets.transform(len).reset_index()['response-time']\n",
    "goData.columns = ['start-time', 'latency', 'throughput']\n",
    "\n",
    "if compareDatasets:\n",
    "    oldGoData['throughput'] = oldThroughputBuckets.transform(len).reset_index()['response-time']\n",
    "    oldGoData.columns = ['start-time', 'latency', 'throughput']"
   ]
  },
  {
   "cell_type": "code",
   "execution_count": null,
   "metadata": {
    "collapsed": false,
    "deletable": true,
    "editable": true
   },
   "outputs": [],
   "source": [
    "def generateFitLine(data):\n",
    "    y, x = dmatrices('latency ~ throughput', data=data, return_type='dataframe')\n",
    "    fit = sm.GLM(y, x, family=sm.families.InverseGaussian(sm.families.links.inverse_squared)).fit()\n",
    "\n",
    "    domain = np.arange(data['throughput'].min(), data['throughput'].max())\n",
    "    predictionInputs = np.ones((len(domain), 2))\n",
    "    predictionInputs[:,1] = domain\n",
    "    fitLine = fit.predict(predictionInputs)\n",
    "    return domain, fitLine\n",
    "\n",
    "domain, goFitLine = generateFitLine(goData)\n",
    "\n",
    "if compareDatasets:\n",
    "    oldDomain, oldGoFitLine = generateFitLine(oldGoData)"
   ]
  },
  {
   "cell_type": "code",
   "execution_count": null,
   "metadata": {
    "collapsed": false,
    "deletable": true,
    "editable": true,
    "scrolled": false
   },
   "outputs": [],
   "source": [
    "fig, ax = plt.subplots()\n",
    "\n",
    "# Change the value of `c` to change the color. http://matplotlib.org/api/colors_api.html\n",
    "ax = goData.plot(ax=ax, kind='scatter', x='throughput', y='latency', c='b', marker='.', alpha=0.2)\n",
    "ax.plot(domain, goFitLine, c='b', lw=2) # Plot the fit line\n",
    "\n",
    "if compareDatasets:\n",
    "    ax = oldGoData.plot(ax=ax, kind='scatter', x='throughput', y='latency', c='r', marker='.', alpha=0.2)\n",
    "    ax.plot(oldDomain, oldGoFitLine, c='r', lw=2) # Plot the fit line\n",
    "    ax.legend(['after', 'before'])\n",
    "\n",
    "# To update x & y axis range change the parameters in function set_(x/y)lim(lower_limit, uppper_limit) \n",
    "ax.set_ylim(0,0.15)\n",
    "ax.set_xlim(0,3000)\n",
    "plt.xlabel('Throughput (requests/sec)')\n",
    "plt.ylabel('Latency (sec)')\n",
    "plt.title('Headroom plot', y=1.05)\n",
    "plt.show()"
   ]
  },
  {
   "cell_type": "code",
   "execution_count": null,
   "metadata": {
    "collapsed": true,
    "deletable": true,
    "editable": true
   },
   "outputs": [],
   "source": []
  }
 ],
 "metadata": {
  "anaconda-cloud": {},
  "kernelspec": {
   "display_name": "Python 3",
   "language": "python",
   "name": "python3"
  },
  "language_info": {
   "codemirror_mode": {
    "name": "ipython",
    "version": 3
   },
   "file_extension": ".py",
   "mimetype": "text/x-python",
   "name": "python",
   "nbconvert_exporter": "python",
   "pygments_lexer": "ipython3",
   "version": "3.5.2"
  }
 },
 "nbformat": 4,
 "nbformat_minor": 2
}
